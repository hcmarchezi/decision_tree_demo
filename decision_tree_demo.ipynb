{
 "cells": [
  {
   "cell_type": "markdown",
   "metadata": {
    "nbpresent": {
     "id": "cc13f0a2-d2b3-497d-8bcc-99b53d2f0476"
    },
    "slideshow": {
     "slide_type": "slide"
    }
   },
   "source": [
    "# Decision Tree Demonstration\n",
    "This notebook demonstrate how decision tree can be used for a classification problem while keeping the discovered rules readable for a human being with python scikit-learn.\n",
    "\n",
    "The chosen dataset is the Iris in which a plant species is classified based on numeric information about physical characteristics.\n",
    "\n",
    "## Characteristics\n",
    "* Supervised\n",
    "* Classification (this example)\n",
    "* Regression"
   ]
  },
  {
   "cell_type": "markdown",
   "metadata": {
    "slideshow": {
     "slide_type": "slide"
    }
   },
   "source": [
    "## Pros and Cons\n",
    "\n",
    "**advantages from decision trees:**\n",
    "* simple to interpret model(plotting)\n",
    "* requires little data preparation (no need for scaling, normalization, standardization, etc.)\n",
    "* can handle numeric and categorical data\n",
    "\n",
    "\n",
    "**disadvantages of decision trees:**\n",
    "* over complex trees (overfitting) - trees should be pruned\n",
    "* tree format is unstable through small data variations\n",
    "* requires a balanced dataset (no label class should occur too much comparing to others)"
   ]
  },
  {
   "cell_type": "markdown",
   "metadata": {
    "slideshow": {
     "slide_type": "slide"
    }
   },
   "source": [
    "## Learning method\n",
    "\n",
    "There are several decision tree learning methods such as ID3, C4.5, C5.0, CART among others.\n",
    "\n",
    "**Scikit-learn uses an optimized version of CART learning algorithm.**\n",
    "\n",
    "[scikit-learn tree learning algorithms](http://scikit-learn.org/stable/modules/tree.html#tree-algorithms-id3-c4-5-c5-0-and-cart)"
   ]
  },
  {
   "cell_type": "markdown",
   "metadata": {
    "slideshow": {
     "slide_type": "slide"
    }
   },
   "source": [
    "## List of tools used in this presentation\n",
    "\n",
    "* jupyter-notebook with rise plugin installed (thanks Thomas)\n",
    "* Python installed from Anaconda distribution\n",
    "* scikit-learn\n",
    "* pydotplus \n",
    "* pandas"
   ]
  },
  {
   "cell_type": "code",
   "execution_count": null,
   "metadata": {
    "collapsed": false,
    "nbpresent": {
     "id": "9e13e2dd-5c1a-4487-9f35-e7c3b3a97078"
    },
    "slideshow": {
     "slide_type": "slide"
    }
   },
   "outputs": [],
   "source": [
    "from pandas import read_csv, DataFrame\n",
    "from sklearn.model_selection import train_test_split\n",
    "from sklearn.tree import DecisionTreeClassifier\n",
    "from sklearn.metrics import accuracy_score\n",
    "from IPython.display import Image  \n",
    "from sklearn.tree import export_graphviz\n",
    "import pydotplus\n",
    "import matplotlib.pyplot as plt"
   ]
  },
  {
   "cell_type": "markdown",
   "metadata": {
    "nbpresent": {
     "id": "1d9cbab6-bbe1-4ca4-85c0-7d51dd4717e5"
    },
    "slideshow": {
     "slide_type": "slide"
    }
   },
   "source": [
    "## Step 1 - Loading data\n",
    "\n",
    "**Feature columns:** sepal length, sepal width, petal length and petal width.\n",
    "\n",
    "**Label column:** species (categorical): Iris-setosa, Iris-versicolor, Iris-virginica."
   ]
  },
  {
   "cell_type": "code",
   "execution_count": null,
   "metadata": {
    "collapsed": false,
    "nbpresent": {
     "id": "32f3994c-190b-4d01-96b8-ec19b6ecdc2f"
    },
    "slideshow": {
     "slide_type": "slide"
    }
   },
   "outputs": [],
   "source": [
    "raw_data = read_csv('iris.csv')\n",
    "raw_data.head()"
   ]
  },
  {
   "cell_type": "code",
   "execution_count": null,
   "metadata": {
    "collapsed": false,
    "nbpresent": {
     "id": "26243623-5b1d-474d-a4a6-a74dc9c02371"
    },
    "slideshow": {
     "slide_type": "slide"
    }
   },
   "outputs": [],
   "source": [
    "class_labels = raw_data.Species.unique()\n",
    "class_labels"
   ]
  },
  {
   "cell_type": "code",
   "execution_count": null,
   "metadata": {
    "collapsed": true,
    "nbpresent": {
     "id": "3332c4c5-d070-454c-bfc9-c12166988b8c"
    },
    "slideshow": {
     "slide_type": "slide"
    }
   },
   "outputs": [],
   "source": [
    "feature_columns = ['SepalLengthCm','SepalWidthCm','PetalLengthCm','PetalWidthCm']\n",
    "label_columns   = ['Species']"
   ]
  },
  {
   "cell_type": "markdown",
   "metadata": {
    "nbpresent": {
     "id": "aa98bc40-d9f9-4d04-81cb-5927035853b8"
    },
    "slideshow": {
     "slide_type": "slide"
    }
   },
   "source": [
    "## Step 2 - Split data in train and test"
   ]
  },
  {
   "cell_type": "code",
   "execution_count": null,
   "metadata": {
    "collapsed": false,
    "nbpresent": {
     "id": "d0ae2f5f-3d82-45f0-8d4e-029bceae09b9"
    },
    "slideshow": {
     "slide_type": "slide"
    }
   },
   "outputs": [],
   "source": [
    "x = raw_data.filter(feature_columns).as_matrix()\n",
    "y = raw_data.filter(label_columns).as_matrix()\n",
    "x_train, x_test, y_train, y_test = train_test_split(x, y, \n",
    "                                                    train_size = 0.70, \n",
    "                                                    random_state = 100)"
   ]
  },
  {
   "cell_type": "markdown",
   "metadata": {
    "collapsed": true,
    "nbpresent": {
     "id": "08081d99-7d49-458a-b6d8-46e81bd5277b"
    },
    "slideshow": {
     "slide_type": "slide"
    }
   },
   "source": [
    "## Step 3 - Train decision tree "
   ]
  },
  {
   "cell_type": "code",
   "execution_count": null,
   "metadata": {
    "collapsed": true,
    "nbpresent": {
     "id": "65ee32d4-b8fa-498b-98ca-aaa0a7f66a0b"
    },
    "slideshow": {
     "slide_type": "slide"
    }
   },
   "outputs": [],
   "source": [
    "iris_tree = DecisionTreeClassifier().fit(x_train, y_train)"
   ]
  },
  {
   "cell_type": "markdown",
   "metadata": {
    "collapsed": true,
    "nbpresent": {
     "id": "c6c449de-bded-40ba-a7d3-2182817b047b"
    },
    "slideshow": {
     "slide_type": "slide"
    }
   },
   "source": [
    "## Step 4 - Test decision tree"
   ]
  },
  {
   "cell_type": "code",
   "execution_count": null,
   "metadata": {
    "collapsed": false,
    "nbpresent": {
     "id": "4974a298-6afd-4257-8530-b2bbaf02f3ae"
    },
    "slideshow": {
     "slide_type": "slide"
    }
   },
   "outputs": [],
   "source": [
    "y_pred = iris_tree.predict(x_test)\n",
    "'Decision tree accuracy is ' + str(accuracy_score(y_test, y_pred))\n",
    "y_test"
   ]
  },
  {
   "cell_type": "markdown",
   "metadata": {
    "collapsed": true,
    "nbpresent": {
     "id": "28984721-1ecc-4383-b350-e5042396687c"
    },
    "slideshow": {
     "slide_type": "slide"
    }
   },
   "source": [
    "## Step 5 - Plot decision tree"
   ]
  },
  {
   "cell_type": "code",
   "execution_count": null,
   "metadata": {
    "collapsed": false,
    "nbpresent": {
     "id": "74bf1062-33d1-4d51-ad4b-084a799215ec"
    },
    "scrolled": false,
    "slideshow": {
     "slide_type": "slide"
    }
   },
   "outputs": [],
   "source": [
    "dot_data = export_graphviz(iris_tree, out_file=None, feature_names=feature_columns,  \n",
    "                    class_names=class_labels,  filled=True, rounded=True,  special_characters=True)  \n",
    "graph = pydotplus.graph_from_dot_data(dot_data)  \n",
    "Image(graph.create_png())"
   ]
  },
  {
   "cell_type": "markdown",
   "metadata": {
    "collapsed": true,
    "nbpresent": {
     "id": "d198621f-6c33-4cda-bcd6-c8d2952a7066"
    },
    "slideshow": {
     "slide_type": "slide"
    }
   },
   "source": [
    "## Step 6 - Attributes importance"
   ]
  },
  {
   "cell_type": "code",
   "execution_count": null,
   "metadata": {
    "collapsed": false,
    "nbpresent": {
     "id": "75865e32-4605-4f93-91f7-fe409dbd71e7"
    },
    "slideshow": {
     "slide_type": "slide"
    }
   },
   "outputs": [],
   "source": [
    "attr_importance = DataFrame()\n",
    "attr_importance['feature'] = feature_columns\n",
    "attr_importance['importance'] = iris_tree.feature_importances_\n",
    "attr_importance.sort_values('importance', ascending=False)"
   ]
  },
  {
   "cell_type": "markdown",
   "metadata": {
    "nbpresent": {
     "id": "5086af68-9163-40d1-af2c-82da4a519877"
    },
    "slideshow": {
     "slide_type": "slide"
    }
   },
   "source": [
    "## Step 7 - Reduce decision tree complexity"
   ]
  },
  {
   "cell_type": "code",
   "execution_count": null,
   "metadata": {
    "collapsed": false,
    "nbpresent": {
     "id": "d51023de-e192-4d9e-8906-21cc7a4406a9"
    },
    "slideshow": {
     "slide_type": "slide"
    }
   },
   "outputs": [],
   "source": [
    "## reference: http://scikit-learn.org/stable/modules/generated/sklearn.tree.DecisionTreeClassifier.html#sklearn.tree.DecisionTreeClassifier\n",
    "simplified_iris_tree = DecisionTreeClassifier(max_depth=2, min_samples_split=5).fit(x_train, y_train)\n",
    "y_pred_2 = simplified_iris_tree.predict(x_test)\n",
    "'Simplified decision tree accuracy is ' + str(accuracy_score(y_test, y_pred_2))"
   ]
  },
  {
   "cell_type": "code",
   "execution_count": null,
   "metadata": {
    "collapsed": false,
    "nbpresent": {
     "id": "433331f5-df83-470f-b517-352e55965491"
    },
    "slideshow": {
     "slide_type": "slide"
    }
   },
   "outputs": [],
   "source": [
    "dot_data = export_graphviz(simplified_iris_tree, out_file=None, \n",
    "                    feature_names=feature_columns,  \n",
    "                    class_names=class_labels,  \n",
    "                    filled=True, rounded=True,  \n",
    "                    special_characters=True)  \n",
    "\n",
    "graph = pydotplus.graph_from_dot_data(dot_data)  \n",
    "Image(graph.create_png())"
   ]
  }
 ],
 "metadata": {
  "anaconda-cloud": {},
  "celltoolbar": "Slideshow",
  "kernelspec": {
   "display_name": "Python [default]",
   "language": "python",
   "name": "python3"
  },
  "language_info": {
   "codemirror_mode": {
    "name": "ipython",
    "version": 3
   },
   "file_extension": ".py",
   "mimetype": "text/x-python",
   "name": "python",
   "nbconvert_exporter": "python",
   "pygments_lexer": "ipython3",
   "version": "3.5.2"
  }
 },
 "nbformat": 4,
 "nbformat_minor": 2
}
